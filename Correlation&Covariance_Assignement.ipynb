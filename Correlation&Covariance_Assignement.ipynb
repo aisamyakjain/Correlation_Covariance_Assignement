{
 "cells": [
  {
   "cell_type": "markdown",
   "id": "861030a6-655e-4f2e-9fc5-efeae6fca480",
   "metadata": {},
   "source": [
    "Q1. Pearson correlation coefficient is a measure of the linear relationship between two variables. Suppose \n",
    "you have collected data on the amount of time students spend studying for an exam and their final exam \n",
    "scores. Calculate the Pearson correlation coefficient between these two variables and interpret the result"
   ]
  },
  {
   "cell_type": "code",
   "execution_count": 3,
   "id": "d7a960b6-2360-4d4a-a561-14f0df70f2d1",
   "metadata": {},
   "outputs": [
    {
     "name": "stdout",
     "output_type": "stream",
     "text": [
      "Pearson correlation coefficient: 1.0\n",
      "There is a positive correlation between Study Time and Exam Scores.\n",
      "p-value: 0.0\n"
     ]
    }
   ],
   "source": [
    "import pandas as pd\n",
    "from scipy.stats import pearsonr\n",
    "\n",
    "# Assuming you have your dataset in a pandas DataFrame\n",
    "dataset = pd.DataFrame({\n",
    "    'Study Time': [10, 15, 20, 25, 30],\n",
    "    'Exam Scores': [75, 80, 85, 90, 95]\n",
    "})\n",
    "\n",
    "# Calculate the Pearson correlation coefficient and p-value\n",
    "corr, p_value = pearsonr(dataset['Study Time'], dataset['Exam Scores'])\n",
    "\n",
    "# Print the correlation coefficient\n",
    "print(\"Pearson correlation coefficient:\", corr)\n",
    "\n",
    "# Print the interpretation\n",
    "if corr > 0:\n",
    "    print(\"There is a positive correlation between Study Time and Exam Scores.\")\n",
    "elif corr < 0:\n",
    "    print(\"There is a negative correlation between Study Time and Exam Scores.\")\n",
    "else:\n",
    "    print(\"There is no linear correlation between Study Time and Exam Scores.\")\n",
    "\n",
    "# Print the p-value\n",
    "print(\"p-value:\", p_value)\n"
   ]
  },
  {
   "cell_type": "markdown",
   "id": "1199aaa8-a9fd-4884-af76-8d22805e0172",
   "metadata": {},
   "source": [
    "Q2. Spearman's rank correlation is a measure of the monotonic relationship between two variables. \n",
    "Suppose you have collected data on the amount of sleep individuals get each night and their overall job \n",
    "satisfaction level on a scale of 1 to 10. Calculate the Spearman's rank correlation between these two \n",
    "variables and interpret the result"
   ]
  },
  {
   "cell_type": "code",
   "execution_count": 4,
   "id": "9779a97f-50e4-4550-840c-b24f7f786b10",
   "metadata": {},
   "outputs": [],
   "source": [
    "from scipy.stats import spearmanr"
   ]
  },
  {
   "cell_type": "code",
   "execution_count": 20,
   "id": "6161e0be-7bd5-481c-8c0c-b807509c72e5",
   "metadata": {},
   "outputs": [
    {
     "name": "stdout",
     "output_type": "stream",
     "text": [
      "Correlation Coefficient  -0.8999999999999998\n",
      "Negative\n",
      "pvalue 0.03738607346849874\n"
     ]
    }
   ],
   "source": [
    "import pandas as pd\n",
    "\n",
    "df = pd.DataFrame({\n",
    "     \"sleep_hour\" : [8,6,7,9,10],\n",
    "     \"job_satisfaction\" : [5,9,8,7,1]\n",
    "})\n",
    "    \n",
    "corr,p_value = spearmanr(df[\"sleep_hour\"] , df [\"job_satisfaction\"])\n",
    "\n",
    "print (\"Correlation Coefficient \" , corr)\n",
    "\n",
    "if corr > 0:\n",
    "    print (\"Positve\")\n",
    "elif corr < 0:\n",
    "    print(\"Negative\")\n",
    "else:\n",
    "    print (\"There is no linear relation\")\n",
    "    \n",
    "print(\"pvalue\" , p_value)"
   ]
  },
  {
   "cell_type": "markdown",
   "id": "4831c8de-2d53-4339-ad15-af3750f892c7",
   "metadata": {},
   "source": [
    "Q3. Suppose you are conducting a study to examine the relationship between the number of hours of \n",
    "exercise per week and body mass index (BMI) in a sample of adults. You collected data on both variables \n",
    "for 50 participants. Calculate the Pearson correlation coefficient and the Spearman's rank correlation \n",
    "between these two variables and compare the results"
   ]
  },
  {
   "cell_type": "code",
   "execution_count": 21,
   "id": "9a52aca9-3540-4cf9-99d8-113d8682a757",
   "metadata": {},
   "outputs": [],
   "source": [
    "import pandas as pd\n",
    "from scipy.stats import pearsonr\n",
    "from scipy.stats import spearmanr"
   ]
  },
  {
   "cell_type": "code",
   "execution_count": 29,
   "id": "9454c447-f1dc-430f-bdc7-d3974cf60b13",
   "metadata": {},
   "outputs": [],
   "source": [
    "df = pd.DataFrame({\n",
    "    \"ex-per-week\" : [5,4,9,6,7,8,9,5,4,2,3,8,8,8,9,8,7,8,9,8,5,6,6,2,4,5,6,3,4,5,8,9,7,8,9,8,9,9,9,9,9,9,9,5,5,5,5,5,5],\n",
    "    \"Body-Mass-Index\" : [20,15,14,15,18,19,18,17,19,10,10,14,15,14,15,15,14,14,1,18,18,19,15,16,16,12,12,12,12,12,12,15,14,17,18,15,19,19,19,15,15,15,15,16,14,13,12,4,15]\n",
    "})\n",
    "\n",
    "corr , p_value = spearmanr(df[\"ex-per-week\"],df[\"Body-Mass-Index\"])"
   ]
  },
  {
   "cell_type": "code",
   "execution_count": 33,
   "id": "d47b701a-1729-42e9-bfcf-de2007aa2163",
   "metadata": {},
   "outputs": [
    {
     "name": "stdout",
     "output_type": "stream",
     "text": [
      "spearman rank corr 0.19675154841536627\n",
      "p_value 0.17541955232155987\n"
     ]
    }
   ],
   "source": [
    "print(\"spearman rank corr\" , corr)\n",
    "print(\"p_value\" , p_value)\n"
   ]
  },
  {
   "cell_type": "code",
   "execution_count": 34,
   "id": "26e5e2f3-e225-44b8-9a2d-ecfd587902c5",
   "metadata": {},
   "outputs": [],
   "source": [
    "corr , p_value = pearsonr(df[\"ex-per-week\"],df[\"Body-Mass-Index\"])"
   ]
  },
  {
   "cell_type": "code",
   "execution_count": 35,
   "id": "d6dacc95-9574-4289-a8a9-180b702373b5",
   "metadata": {},
   "outputs": [
    {
     "name": "stdout",
     "output_type": "stream",
     "text": [
      "p_value 0.17541955232155987\n",
      "Pearson Coeff 0.19675154841536627\n"
     ]
    }
   ],
   "source": [
    "print(\"p_value\" , p_value)\n",
    "print(\"Pearson Coeff\" , corr)"
   ]
  },
  {
   "cell_type": "markdown",
   "id": "35508785-f536-4cb0-8b50-9c8a0dcae142",
   "metadata": {},
   "source": [
    "Q4. A researcher is interested in examining the relationship between the number of hours individuals \n",
    "spend watching television per day and their level of physical activity. The researcher collected data on \n",
    "both variables from a sample of 50 participants. Calculate the Pearson correlation coefficient between \n",
    "these two variables"
   ]
  },
  {
   "cell_type": "code",
   "execution_count": 36,
   "id": "8c67d875-55a4-415d-af08-6f4bcc79d799",
   "metadata": {},
   "outputs": [],
   "source": [
    "df = pd.DataFrame({\n",
    "    \"watching_Television_perday\" : [5,4,9,6,7,8,9,5,4,2,3,8,8,8,9,8,7,8,9,8,5,6,6,2,4,5,6,3,4,5,8,9,7,8,9,8,9,9,9,9,9,9,9,5,5,5,5,5,5],\n",
    "    \"level_of_physical_activity\" : [20,15,14,15,18,19,18,17,19,10,10,14,15,14,15,15,14,14,1,18,18,19,15,16,16,12,12,12,12,12,12,15,14,17,18,15,19,19,19,15,15,15,15,16,14,13,12,4,15]\n",
    "})\n",
    "\n",
    "corr , p_value = pearsonr(df[\"watching_Television_perday\"],df[\"level_of_physical_activity\"])"
   ]
  },
  {
   "cell_type": "code",
   "execution_count": 37,
   "id": "db48abac-54e1-4a85-8a32-d50e9a3009a8",
   "metadata": {},
   "outputs": [
    {
     "name": "stdout",
     "output_type": "stream",
     "text": [
      "Pearson corr 0.19675154841536627\n",
      "Pvalue 0.17541955232155987\n"
     ]
    }
   ],
   "source": [
    "print (\"Pearson corr\" , corr)\n",
    "print (\"Pvalue\" , p_value)"
   ]
  },
  {
   "cell_type": "markdown",
   "id": "6693c05d-a485-4b5c-a147-e6cf3f12a79f",
   "metadata": {},
   "source": [
    "Q5. A survey was conducted to examine the relationship between age and preference for a particular \n",
    "brand of soft drink. The survey results are shown below:\n",
    "\n",
    "   \n",
    "\n",
    "Age(Years)   \n",
    "25      \n",
    "42       \n",
    "37        \n",
    "19         \n",
    "31         \n",
    "28         \n",
    "Soft drink preferances(Person)       \n",
    "coke          \n",
    "pepsi           \n",
    "Mountain dew        \n",
    "Coke          \n",
    "Pepsi         \n",
    "Coke         "
   ]
  },
  {
   "cell_type": "code",
   "execution_count": 44,
   "id": "1088b202-9001-4d59-82fa-d8faf6708441",
   "metadata": {},
   "outputs": [
    {
     "name": "stdout",
     "output_type": "stream",
     "text": [
      "  Soft Drink Preferences  count\n",
      "0                   Coke      3\n",
      "1           Mountain Dew      1\n",
      "2                  Pepsi      2\n"
     ]
    }
   ],
   "source": [
    "import pandas as pd\n",
    "\n",
    "# Assuming you have the survey results in two lists: age and soft_drink_preferences\n",
    "age = [25, 42, 37, 19, 31, 28]\n",
    "soft_drink_preferences = ['Coke', 'Pepsi', 'Mountain Dew', 'Coke', 'Pepsi', 'Coke']\n",
    "\n",
    "# Create a DataFrame from the survey results\n",
    "survey_results = pd.DataFrame({'Age (Years)': age, 'Soft Drink Preferences': soft_drink_preferences})\n",
    "\n",
    "# Group the data by soft drink preferences and count the occurrences for each brand\n",
    "preferences_count = survey_results.groupby('Soft Drink Preferences').size().reset_index(name='count')\n",
    "\n",
    "# Print the results\n",
    "print(preferences_count)\n"
   ]
  },
  {
   "cell_type": "markdown",
   "id": "1b0ae1fd-d1ca-4cfa-8892-79c2db4a493e",
   "metadata": {},
   "source": [
    "Q6. A company is interested in examining the relationship between the number of sales calls made per day \n",
    "and the number of sales made per week. The company collected data on both variables from a sample of \n",
    "30 sales representatives. Calculate the Pearson correlation coefficient between these two variables."
   ]
  },
  {
   "cell_type": "code",
   "execution_count": 45,
   "id": "50d9cb56-14dc-4eb3-a4d9-279dd765ffba",
   "metadata": {},
   "outputs": [],
   "source": [
    "df = pd.DataFrame({\n",
    "    \"No_of_Sales_Per_Person\" : [5,4,9,6,7,8,9,5,4,2,3,8,8,8,9,8,7,8,9,8,5,6,6,2,4,5,6,3,4,5,8,9,7,8,9,8,9,9,9,9,9,9,9,5,5,5,5,5,5],\n",
    "    \"No_of_Calls_Per_Person\" : [20,15,14,15,18,19,18,17,19,10,10,14,15,14,15,15,14,14,1,18,18,19,15,16,16,12,12,12,12,12,12,15,14,17,18,15,19,19,19,15,15,15,15,16,14,13,12,4,15]\n",
    "})\n",
    "\n",
    "corr , p_value = pearsonr(df[\"No_of_Sales_Per_Person\"],df[\"No_of_Calls_Per_Person\"])"
   ]
  },
  {
   "cell_type": "code",
   "execution_count": 46,
   "id": "203b5653-5ab0-4d02-add5-ba3404703f12",
   "metadata": {},
   "outputs": [
    {
     "name": "stdout",
     "output_type": "stream",
     "text": [
      "Pearson 0.19675154841536627\n",
      "pvalue 0.17541955232155987\n"
     ]
    }
   ],
   "source": [
    "print(\"Pearson\" , corr)\n",
    "print(\"pvalue\" ,p_value)"
   ]
  },
  {
   "cell_type": "code",
   "execution_count": null,
   "id": "6e86ded5-b4b4-4ab6-8f8b-b7604ffec98f",
   "metadata": {},
   "outputs": [],
   "source": []
  }
 ],
 "metadata": {
  "kernelspec": {
   "display_name": "Python 3 (ipykernel)",
   "language": "python",
   "name": "python3"
  },
  "language_info": {
   "codemirror_mode": {
    "name": "ipython",
    "version": 3
   },
   "file_extension": ".py",
   "mimetype": "text/x-python",
   "name": "python",
   "nbconvert_exporter": "python",
   "pygments_lexer": "ipython3",
   "version": "3.10.8"
  }
 },
 "nbformat": 4,
 "nbformat_minor": 5
}
